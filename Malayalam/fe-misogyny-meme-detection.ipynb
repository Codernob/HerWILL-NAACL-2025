{
 "cells": [
  {
   "cell_type": "code",
   "execution_count": 1,
   "metadata": {
    "_cell_guid": "b1076dfc-b9ad-4769-8c92-a6c4dae69d19",
    "_uuid": "8f2839f25d086af736a60e9eeb907d3b93b6e0e5",
    "execution": {
     "iopub.execute_input": "2025-01-05T12:37:05.540752Z",
     "iopub.status.busy": "2025-01-05T12:37:05.540517Z",
     "iopub.status.idle": "2025-01-05T12:37:07.756537Z",
     "shell.execute_reply": "2025-01-05T12:37:07.755698Z",
     "shell.execute_reply.started": "2025-01-05T12:37:05.540718Z"
    },
    "trusted": true
   },
   "outputs": [
    {
     "name": "stdout",
     "output_type": "stream",
     "text": [
      "/kaggle/input/3-misogyny-meme-detection/3 Misogyny Meme Detection/Tamil/dev-20250101T183837Z-001/dev/dev.csv\n",
      "/kaggle/input/3-misogyny-meme-detection/3 Misogyny Meme Detection/Tamil/train-20250101T183816Z-001/train/train.csv\n",
      "/kaggle/input/3-misogyny-meme-detection/3 Misogyny Meme Detection/Tamil/test-20250101T183840Z-001/test/test.csv\n",
      "/kaggle/input/3-misogyny-meme-detection/3 Misogyny Meme Detection/Malayalam/train-20250101T182940Z-001/train/train.csv\n",
      "/kaggle/input/3-misogyny-meme-detection/3 Misogyny Meme Detection/Malayalam/dev-20250101T182941Z-001/dev/dev.csv\n",
      "/kaggle/input/3-misogyny-meme-detection/3 Misogyny Meme Detection/Malayalam/test-20250101T182944Z-001/test/test.csv\n"
     ]
    }
   ],
   "source": [
    "import numpy as np # linear algebra\n",
    "import pandas as pd # data processing, CSV file I/O (e.g. pd.read_csv)\n",
    "\n",
    "# Input data files are available in the read-only \"../input/\" directory\n",
    "# For example, running this (by clicking run or pressing Shift+Enter) will list all files under the input directory\n",
    "\n",
    "import os\n",
    "for dirname, _, filenames in os.walk('/kaggle/input'):\n",
    "    for filename in filenames:\n",
    "        if filename.endswith(\".csv\"):\n",
    "            print(os.path.join(dirname, filename))"
   ]
  },
  {
   "cell_type": "markdown",
   "metadata": {},
   "source": [
    "# Loading Datasets"
   ]
  },
  {
   "cell_type": "code",
   "execution_count": null,
   "metadata": {
    "execution": {
     "iopub.execute_input": "2025-01-05T12:43:15.307805Z",
     "iopub.status.busy": "2025-01-05T12:43:15.307354Z",
     "iopub.status.idle": "2025-01-05T12:43:15.340828Z",
     "shell.execute_reply": "2025-01-05T12:43:15.339835Z",
     "shell.execute_reply.started": "2025-01-05T12:43:15.307761Z"
    },
    "trusted": true
   },
   "outputs": [],
   "source": [
    "train_df=pd.read_csv(\"/kaggle/input/3-misogyny-meme-detection/3 Misogyny Meme Detection/Tamil/train-20250101T183816Z-001/train/train.csv\")\n",
    "train_df.head()"
   ]
  },
  {
   "cell_type": "code",
   "execution_count": null,
   "metadata": {
    "execution": {
     "iopub.execute_input": "2025-01-05T12:37:07.795279Z",
     "iopub.status.busy": "2025-01-05T12:37:07.795041Z",
     "iopub.status.idle": "2025-01-05T12:37:07.813242Z",
     "shell.execute_reply": "2025-01-05T12:37:07.812669Z",
     "shell.execute_reply.started": "2025-01-05T12:37:07.795260Z"
    },
    "trusted": true
   },
   "outputs": [],
   "source": [
    "val_df=pd.read_csv(\"/kaggle/input/3-misogyny-meme-detection/3 Misogyny Meme Detection/Tamil/dev-20250101T183837Z-001/dev/dev.csv\")\n",
    "val_df.head()"
   ]
  },
  {
   "cell_type": "code",
   "execution_count": null,
   "metadata": {
    "execution": {
     "iopub.execute_input": "2025-01-05T12:37:07.814536Z",
     "iopub.status.busy": "2025-01-05T12:37:07.814234Z",
     "iopub.status.idle": "2025-01-05T12:37:07.826614Z",
     "shell.execute_reply": "2025-01-05T12:37:07.825964Z",
     "shell.execute_reply.started": "2025-01-05T12:37:07.814506Z"
    },
    "trusted": true
   },
   "outputs": [],
   "source": [
    "test_df=pd.read_csv(\"/kaggle/input/3-misogyny-meme-detection/3 Misogyny Meme Detection/Tamil/test-20250101T183840Z-001/test/test.csv\")\n",
    "test_df.head()"
   ]
  },
  {
   "cell_type": "markdown",
   "metadata": {},
   "source": [
    "# Processing"
   ]
  },
  {
   "cell_type": "code",
   "execution_count": 6,
   "metadata": {
    "execution": {
     "iopub.execute_input": "2025-01-05T12:37:07.829575Z",
     "iopub.status.busy": "2025-01-05T12:37:07.829356Z",
     "iopub.status.idle": "2025-01-05T12:37:20.003580Z",
     "shell.execute_reply": "2025-01-05T12:37:20.002648Z",
     "shell.execute_reply.started": "2025-01-05T12:37:07.829555Z"
    },
    "trusted": true
   },
   "outputs": [],
   "source": [
    "import os\n",
    "import torch\n",
    "import torch.nn as nn\n",
    "import pandas as pd\n",
    "from torch.utils.data import DataLoader, Dataset\n",
    "from torchvision.transforms import Compose, Resize, ToTensor, Normalize\n",
    "from transformers import AutoModel, AutoTokenizer, AutoProcessor\n",
    "from sklearn.metrics import accuracy_score, f1_score, precision_score, recall_score\n",
    "from tqdm import tqdm"
   ]
  },
  {
   "cell_type": "code",
   "execution_count": 7,
   "metadata": {
    "execution": {
     "iopub.execute_input": "2025-01-05T12:37:39.620274Z",
     "iopub.status.busy": "2025-01-05T12:37:39.619736Z",
     "iopub.status.idle": "2025-01-05T12:37:39.624260Z",
     "shell.execute_reply": "2025-01-05T12:37:39.623347Z",
     "shell.execute_reply.started": "2025-01-05T12:37:39.620247Z"
    },
    "trusted": true
   },
   "outputs": [],
   "source": [
    "# Paths\n",
    "TRAIN_IMAGE_FOLDER = \"/kaggle/input/3-misogyny-meme-detection/3 Misogyny Meme Detection/Tamil/train-20250101T183816Z-001/train\"\n",
    "VAL_IMAGE_FOLDER = \"/kaggle/input/3-misogyny-meme-detection/3 Misogyny Meme Detection/Tamil/dev-20250101T183837Z-001/dev\"\n",
    "TEST_IMAGE_FOLDER = \"/kaggle/input/3-misogyny-meme-detection/3 Misogyny Meme Detection/Tamil/test-20250101T183840Z-001/test\""
   ]
  },
  {
   "cell_type": "code",
   "execution_count": 20,
   "metadata": {
    "execution": {
     "iopub.execute_input": "2025-01-05T12:42:27.799007Z",
     "iopub.status.busy": "2025-01-05T12:42:27.798706Z",
     "iopub.status.idle": "2025-01-05T12:42:27.803165Z",
     "shell.execute_reply": "2025-01-05T12:42:27.802159Z",
     "shell.execute_reply.started": "2025-01-05T12:42:27.798982Z"
    },
    "trusted": true
   },
   "outputs": [],
   "source": [
    "# Parameters\n",
    "IMAGE_MODEL_NAME = \"openai/clip-vit-base-patch32\"  # Example vision model\n",
    "TEXT_MODEL_NAME = \"Hate-speech-CNERG/tamil-codemixed-abusive-MuRIL\"  # Example Tamil BERT model\n",
    "BATCH_SIZE = 8\n",
    "device = torch.device(\"cuda\" if torch.cuda.is_available() else \"cpu\")"
   ]
  },
  {
   "cell_type": "code",
   "execution_count": 9,
   "metadata": {
    "execution": {
     "iopub.execute_input": "2025-01-05T12:38:10.744093Z",
     "iopub.status.busy": "2025-01-05T12:38:10.743813Z",
     "iopub.status.idle": "2025-01-05T12:38:10.748222Z",
     "shell.execute_reply": "2025-01-05T12:38:10.747248Z",
     "shell.execute_reply.started": "2025-01-05T12:38:10.744072Z"
    },
    "trusted": true
   },
   "outputs": [],
   "source": [
    "# Ensure embedding directory exists\n",
    "os.makedirs(EMBEDDINGS_DIR, exist_ok=True)"
   ]
  },
  {
   "cell_type": "code",
   "execution_count": 15,
   "metadata": {
    "execution": {
     "iopub.execute_input": "2025-01-05T12:40:33.545236Z",
     "iopub.status.busy": "2025-01-05T12:40:33.544941Z",
     "iopub.status.idle": "2025-01-05T12:40:33.550842Z",
     "shell.execute_reply": "2025-01-05T12:40:33.549884Z",
     "shell.execute_reply.started": "2025-01-05T12:40:33.545214Z"
    },
    "trusted": true
   },
   "outputs": [],
   "source": [
    "# Feature extraction classes for images and text\n",
    "class ImageDataset(Dataset):\n",
    "    def __init__(self, image_folder, df, processor):\n",
    "        self.image_folder = image_folder\n",
    "        self.df = df\n",
    "        self.processor = processor\n",
    "        self.transforms = Compose([\n",
    "            Resize((224, 224)),\n",
    "            ToTensor(),\n",
    "            Normalize(mean=[0.5, 0.5, 0.5], std=[0.5, 0.5, 0.5]),\n",
    "        ])\n",
    "\n",
    "    def __len__(self):\n",
    "        return len(self.df)\n",
    "\n",
    "    def __getitem__(self, idx):\n",
    "        image_id = self.df.iloc[idx][\"image_id\"]\n",
    "        image_path = os.path.join(self.image_folder, f\"{image_id}.jpg\")\n",
    "        image = self.transforms(self.processor(image_path))\n",
    "        return image, image_id"
   ]
  },
  {
   "cell_type": "code",
   "execution_count": 16,
   "metadata": {
    "execution": {
     "iopub.execute_input": "2025-01-05T12:40:43.830398Z",
     "iopub.status.busy": "2025-01-05T12:40:43.830104Z",
     "iopub.status.idle": "2025-01-05T12:40:43.835054Z",
     "shell.execute_reply": "2025-01-05T12:40:43.834248Z",
     "shell.execute_reply.started": "2025-01-05T12:40:43.830358Z"
    },
    "trusted": true
   },
   "outputs": [],
   "source": [
    "class TextDataset(Dataset):\n",
    "    def __init__(self, df, tokenizer):\n",
    "        self.df = df\n",
    "        self.tokenizer = tokenizer\n",
    "\n",
    "    def __len__(self):\n",
    "        return len(self.df)\n",
    "\n",
    "    def __getitem__(self, idx):\n",
    "        transcription = self.df.iloc[idx][\"transcriptions\"]\n",
    "        transcription = transcription if isinstance(transcription, str) else \"\"\n",
    "        inputs = self.tokenizer(\n",
    "            transcription, padding=\"max_length\", truncation=True, max_length=128, return_tensors=\"pt\"\n",
    "        )\n",
    "        return inputs, self.df.iloc[idx][\"image_id\"]"
   ]
  },
  {
   "cell_type": "code",
   "execution_count": 21,
   "metadata": {
    "execution": {
     "iopub.execute_input": "2025-01-05T12:42:30.796552Z",
     "iopub.status.busy": "2025-01-05T12:42:30.796223Z",
     "iopub.status.idle": "2025-01-05T12:42:38.501605Z",
     "shell.execute_reply": "2025-01-05T12:42:38.500646Z",
     "shell.execute_reply.started": "2025-01-05T12:42:30.796522Z"
    },
    "trusted": true
   },
   "outputs": [
    {
     "data": {
      "application/vnd.jupyter.widget-view+json": {
       "model_id": "bc43b755a5ff4b5faf963a4393cf63b4",
       "version_major": 2,
       "version_minor": 0
      },
      "text/plain": [
       "config.json:   0%|          | 0.00/662 [00:00<?, ?B/s]"
      ]
     },
     "metadata": {},
     "output_type": "display_data"
    },
    {
     "data": {
      "application/vnd.jupyter.widget-view+json": {
       "model_id": "c353ca270f8642cdafdee77ca66ace20",
       "version_major": 2,
       "version_minor": 0
      },
      "text/plain": [
       "pytorch_model.bin:   0%|          | 0.00/950M [00:00<?, ?B/s]"
      ]
     },
     "metadata": {},
     "output_type": "display_data"
    },
    {
     "data": {
      "application/vnd.jupyter.widget-view+json": {
       "model_id": "8aa690ab2b4543cc8095d3a3b33c998c",
       "version_major": 2,
       "version_minor": 0
      },
      "text/plain": [
       "tokenizer_config.json:   0%|          | 0.00/523 [00:00<?, ?B/s]"
      ]
     },
     "metadata": {},
     "output_type": "display_data"
    },
    {
     "data": {
      "application/vnd.jupyter.widget-view+json": {
       "model_id": "d633b6f78eb74c2a8ad8b5ed80efc086",
       "version_major": 2,
       "version_minor": 0
      },
      "text/plain": [
       "vocab.txt:   0%|          | 0.00/3.16M [00:00<?, ?B/s]"
      ]
     },
     "metadata": {},
     "output_type": "display_data"
    },
    {
     "data": {
      "application/vnd.jupyter.widget-view+json": {
       "model_id": "099a7847dc7247f7872009ffc11d56cd",
       "version_major": 2,
       "version_minor": 0
      },
      "text/plain": [
       "special_tokens_map.json:   0%|          | 0.00/112 [00:00<?, ?B/s]"
      ]
     },
     "metadata": {},
     "output_type": "display_data"
    }
   ],
   "source": [
    "# Load Hugging Face models\n",
    "vision_model = AutoModel.from_pretrained(IMAGE_MODEL_NAME).to(device)\n",
    "vision_processor = AutoProcessor.from_pretrained(IMAGE_MODEL_NAME)\n",
    "text_model = AutoModel.from_pretrained(TEXT_MODEL_NAME).to(device)\n",
    "text_tokenizer = AutoTokenizer.from_pretrained(TEXT_MODEL_NAME)"
   ]
  },
  {
   "cell_type": "code",
   "execution_count": 28,
   "metadata": {
    "execution": {
     "iopub.execute_input": "2025-01-05T12:47:38.057210Z",
     "iopub.status.busy": "2025-01-05T12:47:38.056893Z",
     "iopub.status.idle": "2025-01-05T12:47:38.063267Z",
     "shell.execute_reply": "2025-01-05T12:47:38.062606Z",
     "shell.execute_reply.started": "2025-01-05T12:47:38.057187Z"
    },
    "trusted": true
   },
   "outputs": [],
   "source": [
    "from PIL import Image\n",
    "\n",
    "def extract_image_embeddings(image_folder, df, save_path, model, processor):\n",
    "    if os.path.exists(save_path):\n",
    "        print(f\"Embeddings already exist at {save_path}\")\n",
    "        return torch.load(save_path)\n",
    "\n",
    "    embeddings = {}\n",
    "    model.eval()\n",
    "    with torch.no_grad():\n",
    "        for idx, row in tqdm(df.iterrows(), desc=\"Extracting image embeddings\", total=len(df)):\n",
    "            image_id = row[\"image_id\"]\n",
    "            image_path = os.path.join(image_folder, f\"{image_id}.jpg\")\n",
    "            \n",
    "            if not os.path.exists(image_path):\n",
    "                print(f\"Image not found: {image_path}\")\n",
    "                continue\n",
    "\n",
    "            try:\n",
    "                # Open image with PIL\n",
    "                image = Image.open(image_path).convert(\"RGB\")\n",
    "                # Preprocess image\n",
    "                inputs = processor(images=image, return_tensors=\"pt\").to(device)\n",
    "                # Extract embeddings\n",
    "                outputs = model.get_image_features(**inputs)\n",
    "                embeddings[image_id] = outputs.cpu()\n",
    "            except Exception as e:\n",
    "                print(f\"Error processing image {image_id}: {e}\")\n",
    "                continue\n",
    "\n",
    "    torch.save(embeddings, save_path)\n",
    "    return embeddings"
   ]
  },
  {
   "cell_type": "code",
   "execution_count": 29,
   "metadata": {
    "execution": {
     "iopub.execute_input": "2025-01-05T12:47:47.032019Z",
     "iopub.status.busy": "2025-01-05T12:47:47.031702Z",
     "iopub.status.idle": "2025-01-05T12:48:33.385474Z",
     "shell.execute_reply": "2025-01-05T12:48:33.384559Z",
     "shell.execute_reply.started": "2025-01-05T12:47:47.031994Z"
    },
    "trusted": true
   },
   "outputs": [
    {
     "name": "stderr",
     "output_type": "stream",
     "text": [
      "Extracting image embeddings: 100%|██████████| 640/640 [00:29<00:00, 21.38it/s]\n",
      "Extracting image embeddings: 100%|██████████| 160/160 [00:07<00:00, 20.71it/s]\n",
      "Extracting image embeddings: 100%|██████████| 200/200 [00:08<00:00, 23.16it/s]\n"
     ]
    }
   ],
   "source": [
    "# Extract embeddings\n",
    "train_image_embeddings = extract_image_embeddings(\n",
    "    TRAIN_IMAGE_FOLDER, train_df, \"train_image_embeddings.pt\", vision_model, vision_processor\n",
    ")\n",
    "val_image_embeddings = extract_image_embeddings(\n",
    "    VAL_IMAGE_FOLDER, val_df, \"val_image_embeddings.pt\", vision_model, vision_processor\n",
    ")\n",
    "test_image_embeddings = extract_image_embeddings(\n",
    "    TEST_IMAGE_FOLDER, test_df, \"test_image_embeddings.pt\", vision_model, vision_processor\n",
    ")"
   ]
  },
  {
   "cell_type": "code",
   "execution_count": 30,
   "metadata": {
    "execution": {
     "iopub.execute_input": "2025-01-05T12:48:53.257541Z",
     "iopub.status.busy": "2025-01-05T12:48:53.257104Z",
     "iopub.status.idle": "2025-01-05T12:48:53.263403Z",
     "shell.execute_reply": "2025-01-05T12:48:53.262630Z",
     "shell.execute_reply.started": "2025-01-05T12:48:53.257494Z"
    },
    "trusted": true
   },
   "outputs": [],
   "source": [
    "def extract_text_embeddings(df, save_path, model, tokenizer):\n",
    "    if os.path.exists(save_path):\n",
    "        print(f\"Embeddings already exist at {save_path}\")\n",
    "        return torch.load(save_path)\n",
    "\n",
    "    embeddings = {}\n",
    "    model.eval()\n",
    "    with torch.no_grad():\n",
    "        for idx, row in tqdm(df.iterrows(), desc=\"Extracting text embeddings\", total=len(df)):\n",
    "            transcription = row[\"transcriptions\"]\n",
    "            transcription = transcription if isinstance(transcription, str) else \"\"\n",
    "            \n",
    "            # Tokenize the text\n",
    "            inputs = tokenizer(\n",
    "                transcription, padding=\"max_length\", truncation=True, max_length=128, return_tensors=\"pt\"\n",
    "            )\n",
    "            inputs = {key: value.to(device) for key, value in inputs.items()}  # Move inputs to GPU/CPU\n",
    "            \n",
    "            # Extract embeddings\n",
    "            outputs = model(**inputs)\n",
    "            embeddings[row[\"image_id\"]] = outputs.pooler_output.cpu()\n",
    "\n",
    "    torch.save(embeddings, save_path)\n",
    "    return embeddings"
   ]
  },
  {
   "cell_type": "code",
   "execution_count": 31,
   "metadata": {
    "execution": {
     "iopub.execute_input": "2025-01-05T12:48:56.371789Z",
     "iopub.status.busy": "2025-01-05T12:48:56.371468Z",
     "iopub.status.idle": "2025-01-05T12:49:06.289198Z",
     "shell.execute_reply": "2025-01-05T12:49:06.288432Z",
     "shell.execute_reply.started": "2025-01-05T12:48:56.371762Z"
    },
    "trusted": true
   },
   "outputs": [
    {
     "name": "stderr",
     "output_type": "stream",
     "text": [
      "Extracting text embeddings: 100%|██████████| 640/640 [00:06<00:00, 101.03it/s]\n",
      "Extracting text embeddings: 100%|██████████| 160/160 [00:01<00:00, 103.23it/s]\n",
      "Extracting text embeddings: 100%|██████████| 200/200 [00:01<00:00, 101.33it/s]\n"
     ]
    }
   ],
   "source": [
    "train_text_embeddings = extract_text_embeddings(\n",
    "    train_df, \"train_text_embeddings.pt\", text_model, text_tokenizer\n",
    ")\n",
    "val_text_embeddings = extract_text_embeddings(\n",
    "    val_df, \"val_text_embeddings.pt\", text_model, text_tokenizer\n",
    ")\n",
    "test_text_embeddings = extract_text_embeddings(\n",
    "    test_df, \"test_text_embeddings.pt\", text_model, text_tokenizer\n",
    ")"
   ]
  },
  {
   "cell_type": "code",
   "execution_count": null,
   "metadata": {
    "trusted": true
   },
   "outputs": [],
   "source": []
  }
 ],
 "metadata": {
  "kaggle": {
   "accelerator": "nvidiaTeslaT4",
   "dataSources": [
    {
     "datasetId": 6409484,
     "sourceId": 10350563,
     "sourceType": "datasetVersion"
    }
   ],
   "dockerImageVersionId": 30823,
   "isGpuEnabled": true,
   "isInternetEnabled": true,
   "language": "python",
   "sourceType": "notebook"
  },
  "kernelspec": {
   "display_name": "Python 3",
   "language": "python",
   "name": "python3"
  },
  "language_info": {
   "codemirror_mode": {
    "name": "ipython",
    "version": 3
   },
   "file_extension": ".py",
   "mimetype": "text/x-python",
   "name": "python",
   "nbconvert_exporter": "python",
   "pygments_lexer": "ipython3",
   "version": "3.10.12"
  }
 },
 "nbformat": 4,
 "nbformat_minor": 4
}
